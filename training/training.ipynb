{
 "cells": [
  {
   "attachments": {},
   "cell_type": "markdown",
   "metadata": {
    "cellId": "qmtvtwjntsbbjk2o7tka2m",
    "id": "4bJPhFc1h535"
   },
   "source": [
    "## Подготовка среды"
   ]
  },
  {
   "attachments": {},
   "cell_type": "markdown",
   "metadata": {},
   "source": [
    "### Установка необходимых библиотек"
   ]
  },
  {
   "cell_type": "code",
   "execution_count": null,
   "metadata": {
    "cellId": "sia5d1gg8nmasj3pd3bn5o",
    "colab": {
     "base_uri": "https://localhost:8080/"
    },
    "executionInfo": {
     "elapsed": 15039,
     "status": "ok",
     "timestamp": 1666563805979,
     "user": {
      "displayName": "Ninja Of The Midnight",
      "userId": "05843998480307648924"
     },
     "user_tz": -180
    },
    "id": "SkORqJYiS2fZ",
    "outputId": "13fa777d-910d-484b-8569-1e264771b7d5"
   },
   "outputs": [],
   "source": [
    "#!g1.1\n",
    "%pip install pyarrow\n",
    "%pip install transformers\n",
    "%pip install datasets\n",
    "%pip install accelerate"
   ]
  },
  {
   "cell_type": "code",
   "execution_count": 88,
   "metadata": {
    "cellId": "3yzcx6f3elw6arus18eqm7",
    "executionInfo": {
     "elapsed": 8524,
     "status": "ok",
     "timestamp": 1666563814496,
     "user": {
      "displayName": "Ninja Of The Midnight",
      "userId": "05843998480307648924"
     },
     "user_tz": -180
    },
    "id": "wsoTA1D5BTS-"
   },
   "outputs": [],
   "source": [
    "#!g1.1\n",
    "import torch\n",
    "import torchvision\n",
    "from torch.utils.data import DataLoader, random_split\n",
    "import numpy as np\n",
    "import pandas as pd\n",
    "import math\n",
    "from transformers import AutoTokenizer, AutoModelForCausalLM, TextDataset, DataCollatorForLanguageModeling\n",
    "from transformers import TextDataset, DataCollatorForLanguageModeling\n",
    "from transformers import Trainer, TrainingArguments\n",
    "from transformers import AutoConfig\n",
    "from transformers import utils\n",
    "from transformers import GPT2LMHeadModel, GPT2Tokenizer\n",
    "from datasets import load_dataset, Dataset\n",
    "import logging\n",
    "import os"
   ]
  },
  {
   "attachments": {},
   "cell_type": "markdown",
   "metadata": {
    "cellId": "1oe1x4ydbdgjmbadg003ml",
    "execution_id": "9e6c7adc-77e4-4195-9f68-8acfdb041c40",
    "id": "FZMw8kwih_Kh"
   },
   "source": [
    "### Загрузка модели и токенайзера\n",
    "\n"
   ]
  },
  {
   "cell_type": "code",
   "execution_count": null,
   "metadata": {
    "cellId": "a8kb3i7u9fuwired2aherd",
    "colab": {
     "base_uri": "https://localhost:8080/"
    },
    "executionInfo": {
     "elapsed": 5187,
     "status": "ok",
     "timestamp": 1666563848345,
     "user": {
      "displayName": "Ninja Of The Midnight",
      "userId": "05843998480307648924"
     },
     "user_tz": -180
    },
    "id": "2jx-wqYojnBb",
    "outputId": "c017898c-6c10-4560-9cc2-0cff15611af9"
   },
   "outputs": [],
   "source": [
    "#!g1.1\n",
    "# Установка специальных токенов, указываюших на начало и конец последовательности\n",
    "tokenizer = AutoTokenizer.from_pretrained(\"sberbank-ai/rugpt3large_based_on_gpt2\", bos_token=\"<s>\", eos_token=\"<\\s>\", pad_token=\"<pad>\", sep_token=\"<sep>\")\n",
    "model = AutoModelForCausalLM.from_pretrained(\"sberbank-ai/rugpt3large_based_on_gpt2\")\n",
    "model.resize_token_embeddings(len(tokenizer))"
   ]
  },
  {
   "attachments": {},
   "cell_type": "markdown",
   "metadata": {},
   "source": [
    "# Работа с датасетом"
   ]
  },
  {
   "attachments": {},
   "cell_type": "markdown",
   "metadata": {
    "cellId": "gj8knaeab0nn0aw6wslm19",
    "execution_id": "65f61c57-d997-4201-9ae7-a32dd0aafe33",
    "id": "9I0FUfn3iN-S"
   },
   "source": [
    "### Загрузка датасета"
   ]
  },
  {
   "cell_type": "code",
   "execution_count": 78,
   "metadata": {
    "cellId": "cle9954xgcej4y1c8yfb9",
    "colab": {
     "base_uri": "https://localhost:8080/"
    },
    "executionInfo": {
     "elapsed": 2193,
     "status": "ok",
     "timestamp": 1666563854342,
     "user": {
      "displayName": "Ninja Of The Midnight",
      "userId": "05843998480307648924"
     },
     "user_tz": -180
    },
    "id": "1y3ZoH5FvXrL",
    "outputId": "726060ad-d162-4ba9-bb62-cc9fc36b3391"
   },
   "outputs": [],
   "source": [
    "#!g1.1\n",
    "# Загружаем датасет из csv файла с помощью Pandas\n",
    "df = pd.read_csv(\"Films.csv\", encoding='utf-16')\n",
    "# Добавляем разделяющий токен <sep>\n",
    "df['Text'] = \"Название: \" + df['Title'].map(str) + \"<sep>\" + \"Описание: \" + df['Description'].map(str)\n",
    "for i in range(0, 5):\n",
    "    df['Text'] = df['Text'].apply(lambda x: str(x).replace(\"  \", \" \")[:-1])\n",
    "df['Text'] = df['Text'].apply(lambda x: str(x).replace(\"\\t\", \"\"))"
   ]
  },
  {
   "attachments": {},
   "cell_type": "markdown",
   "metadata": {},
   "source": [
    "### Преобразование датасета"
   ]
  },
  {
   "cell_type": "code",
   "execution_count": null,
   "metadata": {
    "cellId": "18nbf8tx3cal242foh3gea",
    "colab": {
     "base_uri": "https://localhost:8080/",
     "height": 150,
     "referenced_widgets": [
      "7d4032ef1a4c49618aebda2581304aaa",
      "de7e38afa462441899ab9a26eefee187",
      "d68586f56c7345cc8c281826f065c879",
      "462705e9219c45aea8cc7e6d9efd54d3",
      "c3d6ef9c730d4b078b555b61e9ee610c",
      "6ded51349a6c4a9993c92fd5b5f5f8c5",
      "4a2d6572d1414346b5b0204364d23b08",
      "c033aec8af1e45e598bdb413fe562491",
      "69eeea800ebe444f96768ecda41dac40",
      "dbb56a6dcb6b4f09b18773f6f9a9ebb0",
      "d12496a6e2d94d5fbb6f749ad8cfc655",
      "ea5ef0cfa5624207a9db49fa3cc027bc",
      "4bfbd3137e6a433ba6999f192970c094",
      "8473d83c1dae4f038301af5876be345f",
      "0471d55af1574c4a903df8b06893fc87",
      "e934a9c1de3146d4a2d4d8a8a1d8fc2c",
      "2eb9daec748f4a7a86b6a621057fe86d",
      "5617a2261521446082fa403b61a0c2da",
      "6c839be613a84864b1bb9e158964510c",
      "59516b1b8ff14fb88e82d54e0aa7bddc",
      "367d00cfb1034047a125359e6960efa3",
      "0ad9df4a51a849f0b0724bcae115b20e"
     ]
    },
    "executionInfo": {
     "elapsed": 22853,
     "status": "ok",
     "timestamp": 1666563879328,
     "user": {
      "displayName": "Ninja Of The Midnight",
      "userId": "05843998480307648924"
     },
     "user_tz": -180
    },
    "id": "wt1FK2wzZhMO",
    "outputId": "bf47a186-f2be-4531-daca-186b35e516b5"
   },
   "outputs": [],
   "source": [
    "#!g1.1\n",
    "# Загрузка датасета в объект класс Dataset из пандасовского датафрейма\n",
    "train_dataset = Dataset.from_pandas(df)\n",
    "def add_special_token(seq):\n",
    "    seq[\"Text\"] = '<s>' + seq[\"Text\"] + '<\\s>'\n",
    "    return seq\n",
    "train_dataset = train_dataset.map(add_special_token)\n",
    "train_dataset = train_dataset.remove_columns(['Title', 'Description'])\n",
    "# Кодирование нашего датасета в числовой формат, с помощью токенайзера\n",
    "def encode(examples):\n",
    "    return tokenizer(examples['Text'], padding='max_length', max_length=256, truncation=True, return_special_tokens_mask=True,)  \n",
    "train_dataset = train_dataset.map(encode, batched=True, remove_columns=[\"Text\"])\n",
    "print(train_dataset[19634])\n",
    "train_dataset.set_format(type=\"torch\", columns=[\"input_ids\", \"attention_mask\", \"special_tokens_mask\"])\n",
    "print(train_dataset[19634])"
   ]
  },
  {
   "cell_type": "code",
   "execution_count": null,
   "metadata": {
    "cellId": "3dm1kq6ifpgbv9r7h6w9d"
   },
   "outputs": [],
   "source": [
    "#!g1.1\n",
    "print([tokenizer.decode(x) for x in train_dataset[19634]['input_ids']])"
   ]
  },
  {
   "cell_type": "markdown",
   "metadata": {
    "cellId": "rrxfxy12cqqdvwsr5u43tp",
    "execution_id": "66e4caad-8c08-4097-83cf-2ca14d5ec938",
    "id": "_KbmpC8TiTqV"
   },
   "source": [
    "Задание параметров обучения"
   ]
  },
  {
   "cell_type": "code",
   "execution_count": null,
   "metadata": {
    "cellId": "mscbx6y3tib67z1tyssyn",
    "executionInfo": {
     "elapsed": 7694,
     "status": "ok",
     "timestamp": 1666563938913,
     "user": {
      "displayName": "Ninja Of The Midnight",
      "userId": "05843998480307648924"
     },
     "user_tz": -180
    },
    "id": "bEJryCD4a6yK"
   },
   "outputs": [],
   "source": [
    "#!g1.1\n",
    "#pragma async\n",
    "data_collator = DataCollatorForLanguageModeling(tokenizer=tokenizer, mlm=True)\n",
    "training_args = TrainingArguments(\n",
    "    \"/home/jupyter/mnt/s3/model-output\",\n",
    "    num_train_epochs=30,\n",
    "    per_device_train_batch_size=8,\n",
    "    per_device_eval_batch_size=4,\n",
    "    gradient_accumulation_steps=16,\n",
    "    warmup_steps=10,\n",
    "    weight_decay=0.05\n",
    ")\n",
    "trainer = Trainer(\n",
    "    model=model,\n",
    "    args=training_args,\n",
    "    data_collator=data_collator,\n",
    "    train_dataset=train_dataset, \n",
    "    optimizers = (torch.optim.AdamW(model.parameters(),lr=1e-5),None)\n",
    ")\n",
    "trainer.train()"
   ]
  }
 ],
 "metadata": {
  "accelerator": "GPU",
  "colab": {
   "collapsed_sections": [],
   "provenance": []
  },
  "kernelspec": {
   "display_name": "oop",
   "language": "python",
   "name": "python3"
  },
  "language_info": {
   "codemirror_mode": {
    "name": "ipython",
    "version": 3
   },
   "file_extension": ".py",
   "mimetype": "text/x-python",
   "name": "python",
   "nbconvert_exporter": "python",
   "pygments_lexer": "ipython3",
   "version": "3.9.12 (main, Apr  4 2022, 05:22:27) [MSC v.1916 64 bit (AMD64)]"
  },
  "notebookId": "a36906ec-0e70-479b-af65-7f4d80c75160",
  "notebookPath": "oop.ipynb",
  "vscode": {
   "interpreter": {
    "hash": "ae8ed1bd1696cd4b7a2b1472b523ee80b075de9ab7d9d99b1ae2c288069c084e"
   }
  },
  "widgets": {
   "application/vnd.jupyter.widget-state+json": {
    "0471d55af1574c4a903df8b06893fc87": {
     "model_module": "@jupyter-widgets/controls",
     "model_module_version": "1.5.0",
     "model_name": "HTMLModel",
     "state": {
      "_dom_classes": [],
      "_model_module": "@jupyter-widgets/controls",
      "_model_module_version": "1.5.0",
      "_model_name": "HTMLModel",
      "_view_count": null,
      "_view_module": "@jupyter-widgets/controls",
      "_view_module_version": "1.5.0",
      "_view_name": "HTMLView",
      "description": "",
      "description_tooltip": null,
      "layout": "IPY_MODEL_367d00cfb1034047a125359e6960efa3",
      "placeholder": "​",
      "style": "IPY_MODEL_0ad9df4a51a849f0b0724bcae115b20e",
      "value": " 27/28 [00:19&lt;00:01,  1.24s/ba]"
     }
    },
    "0ad9df4a51a849f0b0724bcae115b20e": {
     "model_module": "@jupyter-widgets/controls",
     "model_module_version": "1.5.0",
     "model_name": "DescriptionStyleModel",
     "state": {
      "_model_module": "@jupyter-widgets/controls",
      "_model_module_version": "1.5.0",
      "_model_name": "DescriptionStyleModel",
      "_view_count": null,
      "_view_module": "@jupyter-widgets/base",
      "_view_module_version": "1.2.0",
      "_view_name": "StyleView",
      "description_width": ""
     }
    },
    "2eb9daec748f4a7a86b6a621057fe86d": {
     "model_module": "@jupyter-widgets/base",
     "model_module_version": "1.2.0",
     "model_name": "LayoutModel",
     "state": {
      "_model_module": "@jupyter-widgets/base",
      "_model_module_version": "1.2.0",
      "_model_name": "LayoutModel",
      "_view_count": null,
      "_view_module": "@jupyter-widgets/base",
      "_view_module_version": "1.2.0",
      "_view_name": "LayoutView",
      "align_content": null,
      "align_items": null,
      "align_self": null,
      "border": null,
      "bottom": null,
      "display": null,
      "flex": null,
      "flex_flow": null,
      "grid_area": null,
      "grid_auto_columns": null,
      "grid_auto_flow": null,
      "grid_auto_rows": null,
      "grid_column": null,
      "grid_gap": null,
      "grid_row": null,
      "grid_template_areas": null,
      "grid_template_columns": null,
      "grid_template_rows": null,
      "height": null,
      "justify_content": null,
      "justify_items": null,
      "left": null,
      "margin": null,
      "max_height": null,
      "max_width": null,
      "min_height": null,
      "min_width": null,
      "object_fit": null,
      "object_position": null,
      "order": null,
      "overflow": null,
      "overflow_x": null,
      "overflow_y": null,
      "padding": null,
      "right": null,
      "top": null,
      "visibility": null,
      "width": null
     }
    },
    "367d00cfb1034047a125359e6960efa3": {
     "model_module": "@jupyter-widgets/base",
     "model_module_version": "1.2.0",
     "model_name": "LayoutModel",
     "state": {
      "_model_module": "@jupyter-widgets/base",
      "_model_module_version": "1.2.0",
      "_model_name": "LayoutModel",
      "_view_count": null,
      "_view_module": "@jupyter-widgets/base",
      "_view_module_version": "1.2.0",
      "_view_name": "LayoutView",
      "align_content": null,
      "align_items": null,
      "align_self": null,
      "border": null,
      "bottom": null,
      "display": null,
      "flex": null,
      "flex_flow": null,
      "grid_area": null,
      "grid_auto_columns": null,
      "grid_auto_flow": null,
      "grid_auto_rows": null,
      "grid_column": null,
      "grid_gap": null,
      "grid_row": null,
      "grid_template_areas": null,
      "grid_template_columns": null,
      "grid_template_rows": null,
      "height": null,
      "justify_content": null,
      "justify_items": null,
      "left": null,
      "margin": null,
      "max_height": null,
      "max_width": null,
      "min_height": null,
      "min_width": null,
      "object_fit": null,
      "object_position": null,
      "order": null,
      "overflow": null,
      "overflow_x": null,
      "overflow_y": null,
      "padding": null,
      "right": null,
      "top": null,
      "visibility": null,
      "width": null
     }
    },
    "462705e9219c45aea8cc7e6d9efd54d3": {
     "model_module": "@jupyter-widgets/controls",
     "model_module_version": "1.5.0",
     "model_name": "HTMLModel",
     "state": {
      "_dom_classes": [],
      "_model_module": "@jupyter-widgets/controls",
      "_model_module_version": "1.5.0",
      "_model_name": "HTMLModel",
      "_view_count": null,
      "_view_module": "@jupyter-widgets/controls",
      "_view_module_version": "1.5.0",
      "_view_name": "HTMLView",
      "description": "",
      "description_tooltip": null,
      "layout": "IPY_MODEL_dbb56a6dcb6b4f09b18773f6f9a9ebb0",
      "placeholder": "​",
      "style": "IPY_MODEL_d12496a6e2d94d5fbb6f749ad8cfc655",
      "value": " 27037/27037 [00:02&lt;00:00, 11998.30ex/s]"
     }
    },
    "4a2d6572d1414346b5b0204364d23b08": {
     "model_module": "@jupyter-widgets/controls",
     "model_module_version": "1.5.0",
     "model_name": "DescriptionStyleModel",
     "state": {
      "_model_module": "@jupyter-widgets/controls",
      "_model_module_version": "1.5.0",
      "_model_name": "DescriptionStyleModel",
      "_view_count": null,
      "_view_module": "@jupyter-widgets/base",
      "_view_module_version": "1.2.0",
      "_view_name": "StyleView",
      "description_width": ""
     }
    },
    "4bfbd3137e6a433ba6999f192970c094": {
     "model_module": "@jupyter-widgets/controls",
     "model_module_version": "1.5.0",
     "model_name": "HTMLModel",
     "state": {
      "_dom_classes": [],
      "_model_module": "@jupyter-widgets/controls",
      "_model_module_version": "1.5.0",
      "_model_name": "HTMLModel",
      "_view_count": null,
      "_view_module": "@jupyter-widgets/controls",
      "_view_module_version": "1.5.0",
      "_view_name": "HTMLView",
      "description": "",
      "description_tooltip": null,
      "layout": "IPY_MODEL_2eb9daec748f4a7a86b6a621057fe86d",
      "placeholder": "​",
      "style": "IPY_MODEL_5617a2261521446082fa403b61a0c2da",
      "value": " 96%"
     }
    },
    "5617a2261521446082fa403b61a0c2da": {
     "model_module": "@jupyter-widgets/controls",
     "model_module_version": "1.5.0",
     "model_name": "DescriptionStyleModel",
     "state": {
      "_model_module": "@jupyter-widgets/controls",
      "_model_module_version": "1.5.0",
      "_model_name": "DescriptionStyleModel",
      "_view_count": null,
      "_view_module": "@jupyter-widgets/base",
      "_view_module_version": "1.2.0",
      "_view_name": "StyleView",
      "description_width": ""
     }
    },
    "59516b1b8ff14fb88e82d54e0aa7bddc": {
     "model_module": "@jupyter-widgets/controls",
     "model_module_version": "1.5.0",
     "model_name": "ProgressStyleModel",
     "state": {
      "_model_module": "@jupyter-widgets/controls",
      "_model_module_version": "1.5.0",
      "_model_name": "ProgressStyleModel",
      "_view_count": null,
      "_view_module": "@jupyter-widgets/base",
      "_view_module_version": "1.2.0",
      "_view_name": "StyleView",
      "bar_color": null,
      "description_width": ""
     }
    },
    "69eeea800ebe444f96768ecda41dac40": {
     "model_module": "@jupyter-widgets/controls",
     "model_module_version": "1.5.0",
     "model_name": "ProgressStyleModel",
     "state": {
      "_model_module": "@jupyter-widgets/controls",
      "_model_module_version": "1.5.0",
      "_model_name": "ProgressStyleModel",
      "_view_count": null,
      "_view_module": "@jupyter-widgets/base",
      "_view_module_version": "1.2.0",
      "_view_name": "StyleView",
      "bar_color": null,
      "description_width": ""
     }
    },
    "6c839be613a84864b1bb9e158964510c": {
     "model_module": "@jupyter-widgets/base",
     "model_module_version": "1.2.0",
     "model_name": "LayoutModel",
     "state": {
      "_model_module": "@jupyter-widgets/base",
      "_model_module_version": "1.2.0",
      "_model_name": "LayoutModel",
      "_view_count": null,
      "_view_module": "@jupyter-widgets/base",
      "_view_module_version": "1.2.0",
      "_view_name": "LayoutView",
      "align_content": null,
      "align_items": null,
      "align_self": null,
      "border": null,
      "bottom": null,
      "display": null,
      "flex": null,
      "flex_flow": null,
      "grid_area": null,
      "grid_auto_columns": null,
      "grid_auto_flow": null,
      "grid_auto_rows": null,
      "grid_column": null,
      "grid_gap": null,
      "grid_row": null,
      "grid_template_areas": null,
      "grid_template_columns": null,
      "grid_template_rows": null,
      "height": null,
      "justify_content": null,
      "justify_items": null,
      "left": null,
      "margin": null,
      "max_height": null,
      "max_width": null,
      "min_height": null,
      "min_width": null,
      "object_fit": null,
      "object_position": null,
      "order": null,
      "overflow": null,
      "overflow_x": null,
      "overflow_y": null,
      "padding": null,
      "right": null,
      "top": null,
      "visibility": null,
      "width": null
     }
    },
    "6ded51349a6c4a9993c92fd5b5f5f8c5": {
     "model_module": "@jupyter-widgets/base",
     "model_module_version": "1.2.0",
     "model_name": "LayoutModel",
     "state": {
      "_model_module": "@jupyter-widgets/base",
      "_model_module_version": "1.2.0",
      "_model_name": "LayoutModel",
      "_view_count": null,
      "_view_module": "@jupyter-widgets/base",
      "_view_module_version": "1.2.0",
      "_view_name": "LayoutView",
      "align_content": null,
      "align_items": null,
      "align_self": null,
      "border": null,
      "bottom": null,
      "display": null,
      "flex": null,
      "flex_flow": null,
      "grid_area": null,
      "grid_auto_columns": null,
      "grid_auto_flow": null,
      "grid_auto_rows": null,
      "grid_column": null,
      "grid_gap": null,
      "grid_row": null,
      "grid_template_areas": null,
      "grid_template_columns": null,
      "grid_template_rows": null,
      "height": null,
      "justify_content": null,
      "justify_items": null,
      "left": null,
      "margin": null,
      "max_height": null,
      "max_width": null,
      "min_height": null,
      "min_width": null,
      "object_fit": null,
      "object_position": null,
      "order": null,
      "overflow": null,
      "overflow_x": null,
      "overflow_y": null,
      "padding": null,
      "right": null,
      "top": null,
      "visibility": null,
      "width": null
     }
    },
    "7d4032ef1a4c49618aebda2581304aaa": {
     "model_module": "@jupyter-widgets/controls",
     "model_module_version": "1.5.0",
     "model_name": "HBoxModel",
     "state": {
      "_dom_classes": [],
      "_model_module": "@jupyter-widgets/controls",
      "_model_module_version": "1.5.0",
      "_model_name": "HBoxModel",
      "_view_count": null,
      "_view_module": "@jupyter-widgets/controls",
      "_view_module_version": "1.5.0",
      "_view_name": "HBoxView",
      "box_style": "",
      "children": [
       "IPY_MODEL_de7e38afa462441899ab9a26eefee187",
       "IPY_MODEL_d68586f56c7345cc8c281826f065c879",
       "IPY_MODEL_462705e9219c45aea8cc7e6d9efd54d3"
      ],
      "layout": "IPY_MODEL_c3d6ef9c730d4b078b555b61e9ee610c"
     }
    },
    "8473d83c1dae4f038301af5876be345f": {
     "model_module": "@jupyter-widgets/controls",
     "model_module_version": "1.5.0",
     "model_name": "FloatProgressModel",
     "state": {
      "_dom_classes": [],
      "_model_module": "@jupyter-widgets/controls",
      "_model_module_version": "1.5.0",
      "_model_name": "FloatProgressModel",
      "_view_count": null,
      "_view_module": "@jupyter-widgets/controls",
      "_view_module_version": "1.5.0",
      "_view_name": "ProgressView",
      "bar_style": "danger",
      "description": "",
      "description_tooltip": null,
      "layout": "IPY_MODEL_6c839be613a84864b1bb9e158964510c",
      "max": 28,
      "min": 0,
      "orientation": "horizontal",
      "style": "IPY_MODEL_59516b1b8ff14fb88e82d54e0aa7bddc",
      "value": 27
     }
    },
    "c033aec8af1e45e598bdb413fe562491": {
     "model_module": "@jupyter-widgets/base",
     "model_module_version": "1.2.0",
     "model_name": "LayoutModel",
     "state": {
      "_model_module": "@jupyter-widgets/base",
      "_model_module_version": "1.2.0",
      "_model_name": "LayoutModel",
      "_view_count": null,
      "_view_module": "@jupyter-widgets/base",
      "_view_module_version": "1.2.0",
      "_view_name": "LayoutView",
      "align_content": null,
      "align_items": null,
      "align_self": null,
      "border": null,
      "bottom": null,
      "display": null,
      "flex": null,
      "flex_flow": null,
      "grid_area": null,
      "grid_auto_columns": null,
      "grid_auto_flow": null,
      "grid_auto_rows": null,
      "grid_column": null,
      "grid_gap": null,
      "grid_row": null,
      "grid_template_areas": null,
      "grid_template_columns": null,
      "grid_template_rows": null,
      "height": null,
      "justify_content": null,
      "justify_items": null,
      "left": null,
      "margin": null,
      "max_height": null,
      "max_width": null,
      "min_height": null,
      "min_width": null,
      "object_fit": null,
      "object_position": null,
      "order": null,
      "overflow": null,
      "overflow_x": null,
      "overflow_y": null,
      "padding": null,
      "right": null,
      "top": null,
      "visibility": null,
      "width": null
     }
    },
    "c3d6ef9c730d4b078b555b61e9ee610c": {
     "model_module": "@jupyter-widgets/base",
     "model_module_version": "1.2.0",
     "model_name": "LayoutModel",
     "state": {
      "_model_module": "@jupyter-widgets/base",
      "_model_module_version": "1.2.0",
      "_model_name": "LayoutModel",
      "_view_count": null,
      "_view_module": "@jupyter-widgets/base",
      "_view_module_version": "1.2.0",
      "_view_name": "LayoutView",
      "align_content": null,
      "align_items": null,
      "align_self": null,
      "border": null,
      "bottom": null,
      "display": null,
      "flex": null,
      "flex_flow": null,
      "grid_area": null,
      "grid_auto_columns": null,
      "grid_auto_flow": null,
      "grid_auto_rows": null,
      "grid_column": null,
      "grid_gap": null,
      "grid_row": null,
      "grid_template_areas": null,
      "grid_template_columns": null,
      "grid_template_rows": null,
      "height": null,
      "justify_content": null,
      "justify_items": null,
      "left": null,
      "margin": null,
      "max_height": null,
      "max_width": null,
      "min_height": null,
      "min_width": null,
      "object_fit": null,
      "object_position": null,
      "order": null,
      "overflow": null,
      "overflow_x": null,
      "overflow_y": null,
      "padding": null,
      "right": null,
      "top": null,
      "visibility": null,
      "width": null
     }
    },
    "d12496a6e2d94d5fbb6f749ad8cfc655": {
     "model_module": "@jupyter-widgets/controls",
     "model_module_version": "1.5.0",
     "model_name": "DescriptionStyleModel",
     "state": {
      "_model_module": "@jupyter-widgets/controls",
      "_model_module_version": "1.5.0",
      "_model_name": "DescriptionStyleModel",
      "_view_count": null,
      "_view_module": "@jupyter-widgets/base",
      "_view_module_version": "1.2.0",
      "_view_name": "StyleView",
      "description_width": ""
     }
    },
    "d68586f56c7345cc8c281826f065c879": {
     "model_module": "@jupyter-widgets/controls",
     "model_module_version": "1.5.0",
     "model_name": "FloatProgressModel",
     "state": {
      "_dom_classes": [],
      "_model_module": "@jupyter-widgets/controls",
      "_model_module_version": "1.5.0",
      "_model_name": "FloatProgressModel",
      "_view_count": null,
      "_view_module": "@jupyter-widgets/controls",
      "_view_module_version": "1.5.0",
      "_view_name": "ProgressView",
      "bar_style": "success",
      "description": "",
      "description_tooltip": null,
      "layout": "IPY_MODEL_c033aec8af1e45e598bdb413fe562491",
      "max": 27037,
      "min": 0,
      "orientation": "horizontal",
      "style": "IPY_MODEL_69eeea800ebe444f96768ecda41dac40",
      "value": 27037
     }
    },
    "dbb56a6dcb6b4f09b18773f6f9a9ebb0": {
     "model_module": "@jupyter-widgets/base",
     "model_module_version": "1.2.0",
     "model_name": "LayoutModel",
     "state": {
      "_model_module": "@jupyter-widgets/base",
      "_model_module_version": "1.2.0",
      "_model_name": "LayoutModel",
      "_view_count": null,
      "_view_module": "@jupyter-widgets/base",
      "_view_module_version": "1.2.0",
      "_view_name": "LayoutView",
      "align_content": null,
      "align_items": null,
      "align_self": null,
      "border": null,
      "bottom": null,
      "display": null,
      "flex": null,
      "flex_flow": null,
      "grid_area": null,
      "grid_auto_columns": null,
      "grid_auto_flow": null,
      "grid_auto_rows": null,
      "grid_column": null,
      "grid_gap": null,
      "grid_row": null,
      "grid_template_areas": null,
      "grid_template_columns": null,
      "grid_template_rows": null,
      "height": null,
      "justify_content": null,
      "justify_items": null,
      "left": null,
      "margin": null,
      "max_height": null,
      "max_width": null,
      "min_height": null,
      "min_width": null,
      "object_fit": null,
      "object_position": null,
      "order": null,
      "overflow": null,
      "overflow_x": null,
      "overflow_y": null,
      "padding": null,
      "right": null,
      "top": null,
      "visibility": null,
      "width": null
     }
    },
    "de7e38afa462441899ab9a26eefee187": {
     "model_module": "@jupyter-widgets/controls",
     "model_module_version": "1.5.0",
     "model_name": "HTMLModel",
     "state": {
      "_dom_classes": [],
      "_model_module": "@jupyter-widgets/controls",
      "_model_module_version": "1.5.0",
      "_model_name": "HTMLModel",
      "_view_count": null,
      "_view_module": "@jupyter-widgets/controls",
      "_view_module_version": "1.5.0",
      "_view_name": "HTMLView",
      "description": "",
      "description_tooltip": null,
      "layout": "IPY_MODEL_6ded51349a6c4a9993c92fd5b5f5f8c5",
      "placeholder": "​",
      "style": "IPY_MODEL_4a2d6572d1414346b5b0204364d23b08",
      "value": "100%"
     }
    },
    "e934a9c1de3146d4a2d4d8a8a1d8fc2c": {
     "model_module": "@jupyter-widgets/base",
     "model_module_version": "1.2.0",
     "model_name": "LayoutModel",
     "state": {
      "_model_module": "@jupyter-widgets/base",
      "_model_module_version": "1.2.0",
      "_model_name": "LayoutModel",
      "_view_count": null,
      "_view_module": "@jupyter-widgets/base",
      "_view_module_version": "1.2.0",
      "_view_name": "LayoutView",
      "align_content": null,
      "align_items": null,
      "align_self": null,
      "border": null,
      "bottom": null,
      "display": null,
      "flex": null,
      "flex_flow": null,
      "grid_area": null,
      "grid_auto_columns": null,
      "grid_auto_flow": null,
      "grid_auto_rows": null,
      "grid_column": null,
      "grid_gap": null,
      "grid_row": null,
      "grid_template_areas": null,
      "grid_template_columns": null,
      "grid_template_rows": null,
      "height": null,
      "justify_content": null,
      "justify_items": null,
      "left": null,
      "margin": null,
      "max_height": null,
      "max_width": null,
      "min_height": null,
      "min_width": null,
      "object_fit": null,
      "object_position": null,
      "order": null,
      "overflow": null,
      "overflow_x": null,
      "overflow_y": null,
      "padding": null,
      "right": null,
      "top": null,
      "visibility": null,
      "width": null
     }
    },
    "ea5ef0cfa5624207a9db49fa3cc027bc": {
     "model_module": "@jupyter-widgets/controls",
     "model_module_version": "1.5.0",
     "model_name": "HBoxModel",
     "state": {
      "_dom_classes": [],
      "_model_module": "@jupyter-widgets/controls",
      "_model_module_version": "1.5.0",
      "_model_name": "HBoxModel",
      "_view_count": null,
      "_view_module": "@jupyter-widgets/controls",
      "_view_module_version": "1.5.0",
      "_view_name": "HBoxView",
      "box_style": "",
      "children": [
       "IPY_MODEL_4bfbd3137e6a433ba6999f192970c094",
       "IPY_MODEL_8473d83c1dae4f038301af5876be345f",
       "IPY_MODEL_0471d55af1574c4a903df8b06893fc87"
      ],
      "layout": "IPY_MODEL_e934a9c1de3146d4a2d4d8a8a1d8fc2c"
     }
    }
   }
  }
 },
 "nbformat": 4,
 "nbformat_minor": 4
}
